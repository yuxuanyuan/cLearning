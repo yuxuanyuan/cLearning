{
 "cells": [
  {
   "cell_type": "markdown",
   "metadata": {},
   "source": [
    "# 快速排序"
   ]
  },
  {
   "cell_type": "code",
   "execution_count": null,
   "metadata": {},
   "outputs": [],
   "source": [
    "#include <stdio.h>\n",
    "\n",
    "void QickSort(int *, int, int);\n",
    "int FindPos(int *, int, int);\n",
    "\n",
    "int main()\n",
    "{\n",
    "    int a[6] = {2, 1, 0, 5, 4, 3};\n",
    "    int i;\n",
    "    \n",
    "    QickSort(a, 0, 5); //第二个参数表示第一个元素的下标  第三个参数表示最后一个数的下标\n",
    "    \n",
    "    for (i = 0; i < 6; i++)\n",
    "    {\n",
    "        printf(\"%d \", a[i]);\n",
    "    }\n",
    "    printf(\"\\n\");\n",
    "    \n",
    "    return 0;\n",
    "}\n",
    "\n",
    "void QickSort(int *a, int low, int high)\n",
    "{\n",
    "    int pos;\n",
    "\n",
    "    if (low < high)\n",
    "    {\n",
    "        pos = FindPos(a, low, high);\n",
    "        QickSort(a, low, pos -1);\n",
    "        QickSort(a, pos + 1, high);\n",
    "    }\n",
    "}\n",
    "\n",
    "int FindPos(int *a, int low, int high)\n",
    "{\n",
    "    int val = a[low];\n",
    "    \n",
    "    while (low < high)\n",
    "    {\n",
    "        while (low < high &&  a[high] >=val)\n",
    "            --high;\n",
    "        a[low] = a[high];\n",
    "        while (low < high &&  a[low] <=val)\n",
    "            ++low;\n",
    "        a[high] = a[low];\n",
    "    }//终止while循环之后low和high一定是相等的\n",
    "    a[low] = val;\n",
    "    return high; //high可以改为low,但不能改为val、a[low] 或者 a[high]\n",
    "}\n"
   ]
  }
 ],
 "metadata": {
  "kernelspec": {
   "display_name": "C",
   "language": "c",
   "name": "c"
  },
  "language_info": {
   "file_extension": ".c",
   "mimetype": "text/plain",
   "name": "c"
  }
 },
 "nbformat": 4,
 "nbformat_minor": 4
}
