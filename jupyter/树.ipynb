{
 "cells": [
  {
   "cell_type": "markdown",
   "metadata": {},
   "source": [
    "# 非线性结构"
   ]
  },
  {
   "cell_type": "markdown",
   "metadata": {},
   "source": [
    "## 树 (tree)\n",
    "\n",
    "专业定义：\n",
    "1. 有且只有一个称为根（root)的节点\n",
    "2. 有若干个互不相交的子树（child)，这些子树本身也是一棵树\n",
    "\n",
    "通俗定义：\n",
    "1. 树是由节点和边组成\n",
    "2. 每个节点只有一个父节点但可以有多个子节点\n",
    "3. 但有一个节点例外，该节点没有父节点，此节点称为根节点\n",
    "\n",
    "深度： 从根节点到最底层节点的层数称为深度。根节点是第一层。"
   ]
  },
  {
   "cell_type": "markdown",
   "metadata": {},
   "source": [
    "叶子节点： 没有子节点的节点。"
   ]
  },
  {
   "cell_type": "markdown",
   "metadata": {},
   "source": [
    "非终端节点： 实际就是非叶子节点。"
   ]
  },
  {
   "cell_type": "markdown",
   "metadata": {},
   "source": [
    "度：子节点的个数称为度"
   ]
  },
  {
   "cell_type": "markdown",
   "metadata": {},
   "source": [
    "## 树的分类"
   ]
  },
  {
   "cell_type": "markdown",
   "metadata": {},
   "source": [
    "一般的树：任意一个节点的子节点的个数不受限制"
   ]
  },
  {
   "cell_type": "markdown",
   "metadata": {},
   "source": [
    "二叉树：任意一个节点的子节点个数最多两个且子节点的位置不可更改 （有序树）\n",
    "\n",
    "分类：\n",
    "1. 一般二叉树\n",
    "2. 满二叉树：在不增加树的层数前提下无法再添加一个节点的二叉树\n",
    "3. 完全二叉树：如果只是删除了满二叉树最底层最右边连续若干个节点，这样形成的二叉树"
   ]
  },
  {
   "cell_type": "markdown",
   "metadata": {},
   "source": [
    "森林：N个互不相交树的集合"
   ]
  },
  {
   "cell_type": "markdown",
   "metadata": {},
   "source": [
    "## 树的存储"
   ]
  },
  {
   "cell_type": "markdown",
   "metadata": {},
   "source": [
    "二叉树的存储\n",
    "\n",
    "1. 连续存储 -- 完全二叉树\n",
    "\n",
    "优点：\n",
    "\n",
    "查找某个节点的父节点和子节点速度很快（也包括判读有没有子节点）\n",
    "\n",
    "缺点：\n",
    "\n",
    "耗用内存空间过大\n",
    "\n",
    "2. 连式存储"
   ]
  },
  {
   "cell_type": "markdown",
   "metadata": {},
   "source": [
    "一般树的存储\n",
    "\n",
    "双亲表示法： 二维数组，存数据和父节点的下标"
   ]
  },
  {
   "cell_type": "markdown",
   "metadata": {},
   "source": [
    "孩子表示法： 二维数组，存数据和子节点的指针们（链表）"
   ]
  },
  {
   "cell_type": "markdown",
   "metadata": {},
   "source": [
    "双亲孩子表示法： 三维数组，存数据、父节点的下标和子节点的指针们（链表）"
   ]
  },
  {
   "cell_type": "markdown",
   "metadata": {},
   "source": [
    "二叉树表示法: （没有右子树）\n",
    "\n",
    "一般树转化成二叉树来存储。具体转化方法：\n",
    "1. 设法保证任意一个节点，左指针域指向它的第一个孩子，右指针域指向它的兄弟。"
   ]
  },
  {
   "cell_type": "markdown",
   "metadata": {},
   "source": [
    "森林的存储：\n",
    "\n",
    "先把森林转化为二叉树，再存储二叉树"
   ]
  },
  {
   "cell_type": "markdown",
   "metadata": {},
   "source": [
    "二叉树操作：\n",
    "\n",
    "**遍历**\n",
    "1. 先序遍历：先访问根节点；再先序访问左子树；再先序访问右子树\n",
    "2. 中序遍历：中序遍历左子树，再访问根节点，再中序遍历右子树\n",
    "3. 后续遍历：先中序遍历左子树，再中序遍历右子树，再访问根节点 "
   ]
  },
  {
   "cell_type": "markdown",
   "metadata": {},
   "source": [
    "已知两种遍历序列求原始二叉树\n",
    "\n",
    "通过先序和中序 或者 中序和后序 我们可以还原出原始的二叉树。但是通过先序和后序是无法还原出原始的二叉树。换句说法，只有通过先序和中序或者中序和后序我们才可以唯一的确定一个二叉树。"
   ]
  },
  {
   "cell_type": "markdown",
   "metadata": {},
   "source": [
    "例子： 已知先序和中序\n",
    "\n",
    "示例1："
   ]
  },
  {
   "cell_type": "code",
   "execution_count": null,
   "metadata": {},
   "outputs": [],
   "source": [
    "先序： ABCDEFGH\n",
    "中序： BDCEAFHG\n",
    "求后序：DECBHGFA"
   ]
  },
  {
   "cell_type": "markdown",
   "metadata": {},
   "source": [
    "示例2："
   ]
  },
  {
   "cell_type": "code",
   "execution_count": null,
   "metadata": {},
   "outputs": [],
   "source": [
    "先序： ABDGHCEFI\n",
    "中序： GDHBAECIF\n",
    "求后序：GHDBEIFCA"
   ]
  },
  {
   "cell_type": "markdown",
   "metadata": {},
   "source": [
    "例子： 已知后序和中序"
   ]
  },
  {
   "cell_type": "code",
   "execution_count": null,
   "metadata": {},
   "outputs": [],
   "source": [
    "中序： BDCEAFHG\n",
    "后序： DECBHGFA\n",
    "求先序：ABCDEFGH"
   ]
  },
  {
   "cell_type": "markdown",
   "metadata": {},
   "source": [
    "## 树的应用"
   ]
  },
  {
   "cell_type": "markdown",
   "metadata": {},
   "source": [
    "1. 树是数据库中数组数据组织的一种重要形式\n",
    "2. 操作系统子父进程的关系本身就是一棵树\n",
    "3. 面向对象语言中类的继承关系本身就是一棵树\n",
    "4. 赫夫曼树"
   ]
  },
  {
   "cell_type": "code",
   "execution_count": null,
   "metadata": {},
   "outputs": [],
   "source": [
    "#include <stdio.h>\n",
    "#include <stdlib.h>\n",
    "#include <sys/malloc.h>\n",
    "\n",
    "\n",
    "typedef struct BinaryTreeNode{\n",
    "    int data; \n",
    "    struct BinaryTreeNode *pLchild; //p指的是指针， L是左 child 是孩子\n",
    "    struct BinaryTreeNode *pRchild;\n",
    "} BTNODE, *PBTNODE;\n",
    "\n",
    "\n",
    "PBTNODE CreateBTree();\n",
    "void PreTraverseBTree(PBTNODE pT);\n",
    "void InTraverseBTree(PBTNODE pT);\n",
    "void PostTraverseBTree(PBTNODE pT);\n",
    "\n",
    "\n",
    "int main(){\n",
    "    PBTNODE pT = CreateBTree();\n",
    "    \n",
    "    PreTraverseBTree(pT);\n",
    "    InTraverseBTree(pT);\n",
    "    PostTraverseBTree(pT);\n",
    "    return 0;\n",
    "}\n",
    "\n",
    "PBTNODE CreateBTree(){\n",
    "    PBTNODE pA = (PBTNODE)malloc(sizeof(BTNODE));\n",
    "    PBTNODE pB = (PBTNODE)malloc(sizeof(BTNODE));\n",
    "    PBTNODE pC = (PBTNODE)malloc(sizeof(BTNODE));\n",
    "    PBTNODE pD = (PBTNODE)malloc(sizeof(BTNODE));\n",
    "    PBTNODE pE = (PBTNODE)malloc(sizeof(BTNODE));\n",
    "    pA->data = 'A';\n",
    "    pB->data = 'B';\n",
    "    pC->data = 'C';\n",
    "    pD->data = 'D';\n",
    "    pE->data = 'E';\n",
    "    pA->pLchild = pB;\n",
    "    pA->pRchild = pC;\n",
    "    pB->pLchild = pB->pRchild = NULL;\n",
    "    pC->pLchild = pD;\n",
    "    pC->pRchild = NULL; \n",
    "    pD->pLchild = NULL; \n",
    "    pD->pRchild = pE;\n",
    "    pE->pLchild = pE->pRchild = NULL;\n",
    "    return pA; //返回根节点的地址\n",
    "}\n",
    "\n",
    "\n",
    "void PreTraverseBTree(PBTNODE pT)\n",
    "{\n",
    "    /*先访问根节点，再先访问左子树，再先序访问右子树*/\n",
    "    if (pT != NULL)\n",
    "    {\n",
    "        printf(\"%c \\n\", pT->data);\n",
    "        \n",
    "        if (NULL != pT->pLchild)\n",
    "            PreTraverseBTree(pT->pLchild);\n",
    "        if (NULL != pT->pRchild)\n",
    "            PreTraverseBTree(pT->pRchild);\n",
    "    }\n",
    "}\n",
    "\n",
    "\n",
    "void InTraverseBTree(PBTNODE pT)\n",
    "{\n",
    "    /*先访问左子树，再访问根节点，再先序访问右子树*/\n",
    "    if (pT != NULL)\n",
    "    {\n",
    "        if (NULL != pT->pLchild)\n",
    "            InTraverseBTree(pT->pLchild);\n",
    "        \n",
    "        printf(\"%c \\n\", pT->data);\n",
    "        \n",
    "        if (NULL != pT->pRchild)\n",
    "            InTraverseBTree(pT->pRchild);\n",
    "    }\n",
    "}\n",
    "\n",
    "\n",
    "void PostTraverseBTree(PBTNODE pT)\n",
    "{\n",
    "    /*先访问左子树，再先序访问右子树, 再访问根节点*/\n",
    "    if (pT != NULL)\n",
    "    {\n",
    "        if (NULL != pT->pLchild)\n",
    "            PostTraverseBTree(pT->pLchild); \n",
    "        if (NULL != pT->pRchild)\n",
    "            PostTraverseBTree(pT->pRchild);\n",
    "        printf(\"%c \\n\", pT->data);\n",
    "    }\n",
    "}\n",
    "\n"
   ]
  }
 ],
 "metadata": {
  "kernelspec": {
   "display_name": "C",
   "language": "c",
   "name": "c"
  },
  "language_info": {
   "file_extension": ".c",
   "mimetype": "text/plain",
   "name": "c"
  }
 },
 "nbformat": 4,
 "nbformat_minor": 4
}
