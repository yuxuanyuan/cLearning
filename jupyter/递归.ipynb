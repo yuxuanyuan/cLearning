{
 "cells": [
  {
   "cell_type": "markdown",
   "metadata": {},
   "source": [
    "# 递归\n",
    "\n",
    "一个函数自己直接或者间接调用自己。递归时需要满足的条件：\n",
    "\n",
    "1. 必须有一个明确的终止条件\n",
    "2. 该函数所处理的数据规模必须是在递减\n",
    "3. 这个转化必须是可解的"
   ]
  },
  {
   "cell_type": "markdown",
   "metadata": {},
   "source": [
    "递归的优缺点：\n",
    "\n",
    "1. 易于理解\n",
    "2. 存储空间大\n",
    "3. 但是速度慢\n",
    "\n",
    "循环的优缺点\n",
    "\n",
    "1. 不易理解\n",
    "2. 速度快\n",
    "3. 存储空间小"
   ]
  },
  {
   "cell_type": "markdown",
   "metadata": {},
   "source": [
    "a.下面的例子列举了入栈出栈的形式："
   ]
  },
  {
   "cell_type": "code",
   "execution_count": null,
   "metadata": {
    "scrolled": true
   },
   "outputs": [],
   "source": [
    "#include <stdio.h>\n",
    "\n",
    "void f();\n",
    "void g();\n",
    "void k();\n",
    "\n",
    "int main(){\n",
    "    f();\n",
    "    return 0;\n",
    "}\n",
    "\n",
    "void f(){\n",
    "    printf(\"FFFF\\n\");\n",
    "    g();\n",
    "    printf(\"1111\\n\");\n",
    "}\n",
    "\n",
    "void g(){\n",
    "    printf(\"GGGG\\n\");\n",
    "    k();\n",
    "    printf(\"2222\\n\");\n",
    "}\n",
    "\n",
    "void k(){\n",
    "    printf(\"KKKK\\n\");\n",
    "    printf(\"3333\\n\");\n",
    "}"
   ]
  },
  {
   "cell_type": "markdown",
   "metadata": {},
   "source": [
    "b. 如何自己调用自己"
   ]
  },
  {
   "cell_type": "code",
   "execution_count": null,
   "metadata": {},
   "outputs": [],
   "source": [
    "#include <stdio.h>\n",
    "\n",
    "void f(int n){\n",
    "    if (n == 1)\n",
    "        printf(\"Hello\\n\");\n",
    "    else\n",
    "        f(n - 1);\n",
    "        printf(\"%d\\n\", n - 1);\n",
    "}\n",
    "\n",
    "int main(){\n",
    "    f(5);\n",
    "    \n",
    "    return 0;\n",
    "}\n"
   ]
  },
  {
   "cell_type": "code",
   "execution_count": null,
   "metadata": {},
   "outputs": [],
   "source": [
    "c. 阶乘示例"
   ]
  },
  {
   "cell_type": "code",
   "execution_count": null,
   "metadata": {},
   "outputs": [],
   "source": [
    "n! = 1*2*3*...*(n-1)*n  <=> n*(n-1)!"
   ]
  },
  {
   "cell_type": "markdown",
   "metadata": {},
   "source": [
    "方法一：循环"
   ]
  },
  {
   "cell_type": "code",
   "execution_count": null,
   "metadata": {},
   "outputs": [],
   "source": [
    "#include <stdio.h>\n",
    "\n",
    "int main(){\n",
    "    int val; \n",
    "    int i, mult = 1;\n",
    "    printf(\"Please give a number: val = \")\n",
    "    scanf(\"%d\", &val);\n",
    "    \n",
    "    for (i = 1; i <= val; i++){\n",
    "        mult = mult *i;\n",
    "    }\n",
    "    printf(\"%d ! = %d\\n\", val, mult);\n",
    "    \n",
    "    return 0;\n",
    "    \n",
    "}"
   ]
  },
  {
   "cell_type": "markdown",
   "metadata": {},
   "source": [
    "方法二：递归"
   ]
  },
  {
   "cell_type": "code",
   "execution_count": null,
   "metadata": {},
   "outputs": [],
   "source": [
    "#include <stdio.h>\n",
    "\n",
    "unsigned long f(unsigned int n){\n",
    "    if (1 == n)\n",
    "        return 1;\n",
    "    else \n",
    "        return n*f(n-1);\n",
    "}\n",
    "\n",
    "int main(){\n",
    "\n",
    "    unsigned int n = 10;\n",
    "    printf(\"%ld\\n\", f(n));\n",
    "    return 0;\n",
    "}"
   ]
  },
  {
   "cell_type": "markdown",
   "metadata": {},
   "source": [
    "d. 求和1+2+3+4+...+n"
   ]
  },
  {
   "cell_type": "code",
   "execution_count": null,
   "metadata": {},
   "outputs": [],
   "source": [
    "#include <stdio.h>\n",
    "\n",
    "unsigned long sum(int n){\n",
    "    if (1 == n)\n",
    "        return 1;\n",
    "    else\n",
    "        return n + sum(n -1);\n",
    "}\n",
    "\n",
    "int main ()\n",
    "{\n",
    "    int n = 100;\n",
    "    printf(\"%ld\\n\", sum(100));\n",
    "}"
   ]
  },
  {
   "cell_type": "code",
   "execution_count": null,
   "metadata": {},
   "outputs": [],
   "source": [
    "#include <stdio.h>\n",
    "\n",
    "int f(int n){\n",
    "    n += 2;\n",
    "    return n;\n",
    "}\n",
    "\n",
    "int main(){\n",
    "    int val;\n",
    "    val = f(5);\n",
    "    printf(\"val = %d\\n\", val);\n",
    "}"
   ]
  },
  {
   "cell_type": "code",
   "execution_count": null,
   "metadata": {},
   "outputs": [],
   "source": [
    "#include <stdio.h>\n",
    "\n",
    "int g(int);\n",
    "\n",
    "int f(int n){\n",
    "    n = g(n);\n",
    "    return n;\n",
    "}\n",
    "\n",
    "int g(int m){\n",
    "    m = m * 2；\n",
    "    return m;\n",
    "}\n",
    "\n",
    "int main(){\n",
    "    int val;\n",
    "    val = f(5);\n",
    "    printf(\"val = %d\\n\", val);\n",
    "}"
   ]
  },
  {
   "cell_type": "markdown",
   "metadata": {},
   "source": [
    "盘子移动问题(汉诺塔）：总体步数为``2^n -1``\n",
    "\n",
    "有三个容器A， B，C，\n",
    "A容器上有N个盘子，小的在上面，大的在下面，现在的要求是，一次只能移动一个，移动的过程中大盘子始终要放在小盘子的下面，问如和把A上面的盘子移动到C"
   ]
  },
  {
   "cell_type": "markdown",
   "metadata": {},
   "source": [
    "伪算法："
   ]
  },
  {
   "cell_type": "code",
   "execution_count": null,
   "metadata": {},
   "outputs": [],
   "source": [
    "if （n>1)\n",
    "{\n",
    "    先把A上的前n-1个盘子从A借助C到B\n",
    "    将A上的第n个盘子直接移动到C\n",
    "    再讲B上的n-1个盘子借助A移动到C\n",
    "}"
   ]
  },
  {
   "cell_type": "markdown",
   "metadata": {},
   "source": [
    "具体代码"
   ]
  },
  {
   "cell_type": "code",
   "execution_count": null,
   "metadata": {},
   "outputs": [],
   "source": [
    "#include <stdio.h>\n",
    "\n",
    "void hanoi(int n, char A, char B, char C)\n",
    "{\n",
    "    /**********************************\n",
    "     * 如果是一个盘子\n",
    "     *   直接将其从A移到C\n",
    "     * 否则 \n",
    "     *   先将A上的n-1个盘子借助C移到B\n",
    "     *   直接将A上的盘子从A移到C\n",
    "     *  最后将B上的n-1个盘子借助A移到C\n",
    "     *********************************/\n",
    "    \n",
    "    if (1 == n)\n",
    "        printf(\"将编号为%d的盘子直接从%c上移到%c上\\n\", n, A, C);\n",
    "    else\n",
    "    {\n",
    "        hanoi(n-1, A /*从哪里转移*/, C /*借助对象*/, B/*目的地*/);\n",
    "        printf(\"将编号为%d的盘子直接从%c上移到%c上\\n\", n, A, C);\n",
    "        hanoi(n-1, B, A, C);\n",
    "    }\n",
    "}\n",
    "\n",
    "\n",
    "int main()\n",
    "{\n",
    "    char ch1 = 'A';\n",
    "    char ch2 = 'B';\n",
    "    char ch3 = 'C';\n",
    "    int n;\n",
    "    \n",
    "    printf(\"Please input the number of plates: n = \");\n",
    "    scanf(\"%d\", &n);\n",
    "    \n",
    "    hanoi(n, 'A', 'B', 'C');\n",
    "    \n",
    "    return 0;\n",
    "}"
   ]
  },
  {
   "cell_type": "markdown",
   "metadata": {},
   "source": [
    "计算程序运行时间"
   ]
  },
  {
   "cell_type": "code",
   "execution_count": null,
   "metadata": {},
   "outputs": [],
   "source": [
    "#include <stdio.h>\n",
    "#include <time.h>\n",
    "\n",
    "clock_t start, stop;\n",
    "double duration;\n",
    "\n",
    "void printN(int);\n",
    "void printN_r(int);\n",
    "int main()\n",
    "{\n",
    "    int n;\n",
    "    printf(\"Please input an value for n: \");\n",
    "    scanf(\"%d\", &n);\n",
    "    start = clock();\n",
    "    printN(n);\n",
    "    stop = clock();\n",
    "    duration = ((double)(stop - start))/CLOCKS_PER_SEC;\n",
    "    printf(\"The running time is: %.3lf seconds\", duration);\n",
    "    return 0;\n",
    "}\n",
    "\n",
    "void printN(int n)\n",
    "{\n",
    "    int i;\n",
    "    for (i = 1; i <= n; ++i)\n",
    "        printf(\"%d\\n\", i);\n",
    "}\n",
    "\n",
    "void printN_r(int n)\n",
    "{\n",
    "    if(n >= 1)\n",
    "    {\n",
    "        printN_r(n -1);\n",
    "        printf(\"%d\\n\", n);\n",
    "    }\n",
    "\n",
    "}"
   ]
  }
 ],
 "metadata": {
  "kernelspec": {
   "display_name": "C",
   "language": "c",
   "name": "c"
  },
  "language_info": {
   "file_extension": ".c",
   "mimetype": "text/plain",
   "name": "c"
  }
 },
 "nbformat": 4,
 "nbformat_minor": 4
}